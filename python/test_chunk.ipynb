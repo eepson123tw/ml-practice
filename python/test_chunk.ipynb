{
 "cells": [
  {
   "cell_type": "code",
   "execution_count": 11,
   "metadata": {},
   "outputs": [
    {
     "name": "stderr",
     "output_type": "stream",
     "text": [
      "huggingface/tokenizers: The current process just got forked, after parallelism has already been used. Disabling parallelism to avoid deadlocks...\n",
      "To disable this warning, you can either:\n",
      "\t- Avoid using `tokenizers` before the fork if possible\n",
      "\t- Explicitly set the environment variable TOKENIZERS_PARALLELISM=(true | false)\n"
     ]
    },
    {
     "name": "stdout",
     "output_type": "stream",
     "text": [
      "Requirement already satisfied: numpy in /home/dmai-se2/aaron/dspy/venv/lib/python3.10/site-packages (2.1.2)\n",
      "Requirement already satisfied: transformers in /home/dmai-se2/aaron/dspy/venv/lib/python3.10/site-packages (4.46.1)\n",
      "Requirement already satisfied: torch in /home/dmai-se2/aaron/dspy/venv/lib/python3.10/site-packages (2.5.1)\n",
      "Requirement already satisfied: faiss-cpu in /home/dmai-se2/aaron/dspy/venv/lib/python3.10/site-packages (1.9.0)\n",
      "Requirement already satisfied: tokenizers<0.21,>=0.20 in /home/dmai-se2/aaron/dspy/venv/lib/python3.10/site-packages (from transformers) (0.20.1)\n",
      "Requirement already satisfied: packaging>=20.0 in /home/dmai-se2/aaron/dspy/venv/lib/python3.10/site-packages (from transformers) (24.1)\n",
      "Requirement already satisfied: requests in /home/dmai-se2/aaron/dspy/venv/lib/python3.10/site-packages (from transformers) (2.32.3)\n",
      "Requirement already satisfied: safetensors>=0.4.1 in /home/dmai-se2/aaron/dspy/venv/lib/python3.10/site-packages (from transformers) (0.4.5)\n",
      "Requirement already satisfied: tqdm>=4.27 in /home/dmai-se2/aaron/dspy/venv/lib/python3.10/site-packages (from transformers) (4.66.6)\n",
      "Requirement already satisfied: filelock in /home/dmai-se2/aaron/dspy/venv/lib/python3.10/site-packages (from transformers) (3.16.1)\n",
      "Requirement already satisfied: pyyaml>=5.1 in /home/dmai-se2/aaron/dspy/venv/lib/python3.10/site-packages (from transformers) (6.0.2)\n",
      "Requirement already satisfied: regex!=2019.12.17 in /home/dmai-se2/aaron/dspy/venv/lib/python3.10/site-packages (from transformers) (2024.9.11)\n",
      "Requirement already satisfied: huggingface-hub<1.0,>=0.23.2 in /home/dmai-se2/aaron/dspy/venv/lib/python3.10/site-packages (from transformers) (0.26.2)\n",
      "Requirement already satisfied: nvidia-cuda-runtime-cu12==12.4.127 in /home/dmai-se2/aaron/dspy/venv/lib/python3.10/site-packages (from torch) (12.4.127)\n",
      "Requirement already satisfied: nvidia-nvjitlink-cu12==12.4.127 in /home/dmai-se2/aaron/dspy/venv/lib/python3.10/site-packages (from torch) (12.4.127)\n",
      "Requirement already satisfied: nvidia-cufft-cu12==11.2.1.3 in /home/dmai-se2/aaron/dspy/venv/lib/python3.10/site-packages (from torch) (11.2.1.3)\n",
      "Requirement already satisfied: jinja2 in /home/dmai-se2/aaron/dspy/venv/lib/python3.10/site-packages (from torch) (3.1.4)\n",
      "Requirement already satisfied: fsspec in /home/dmai-se2/aaron/dspy/venv/lib/python3.10/site-packages (from torch) (2024.9.0)\n",
      "Requirement already satisfied: nvidia-cusolver-cu12==11.6.1.9 in /home/dmai-se2/aaron/dspy/venv/lib/python3.10/site-packages (from torch) (11.6.1.9)\n",
      "Requirement already satisfied: nvidia-cuda-cupti-cu12==12.4.127 in /home/dmai-se2/aaron/dspy/venv/lib/python3.10/site-packages (from torch) (12.4.127)\n",
      "Requirement already satisfied: sympy==1.13.1 in /home/dmai-se2/aaron/dspy/venv/lib/python3.10/site-packages (from torch) (1.13.1)\n",
      "Requirement already satisfied: nvidia-cudnn-cu12==9.1.0.70 in /home/dmai-se2/aaron/dspy/venv/lib/python3.10/site-packages (from torch) (9.1.0.70)\n",
      "Requirement already satisfied: networkx in /home/dmai-se2/aaron/dspy/venv/lib/python3.10/site-packages (from torch) (3.4.2)\n",
      "Requirement already satisfied: typing-extensions>=4.8.0 in /home/dmai-se2/aaron/dspy/venv/lib/python3.10/site-packages (from torch) (4.12.2)\n",
      "Requirement already satisfied: nvidia-nvtx-cu12==12.4.127 in /home/dmai-se2/aaron/dspy/venv/lib/python3.10/site-packages (from torch) (12.4.127)\n",
      "Requirement already satisfied: nvidia-cuda-nvrtc-cu12==12.4.127 in /home/dmai-se2/aaron/dspy/venv/lib/python3.10/site-packages (from torch) (12.4.127)\n",
      "Requirement already satisfied: triton==3.1.0 in /home/dmai-se2/aaron/dspy/venv/lib/python3.10/site-packages (from torch) (3.1.0)\n",
      "Requirement already satisfied: nvidia-cublas-cu12==12.4.5.8 in /home/dmai-se2/aaron/dspy/venv/lib/python3.10/site-packages (from torch) (12.4.5.8)\n",
      "Requirement already satisfied: nvidia-curand-cu12==10.3.5.147 in /home/dmai-se2/aaron/dspy/venv/lib/python3.10/site-packages (from torch) (10.3.5.147)\n",
      "Requirement already satisfied: nvidia-cusparse-cu12==12.3.1.170 in /home/dmai-se2/aaron/dspy/venv/lib/python3.10/site-packages (from torch) (12.3.1.170)\n",
      "Requirement already satisfied: nvidia-nccl-cu12==2.21.5 in /home/dmai-se2/aaron/dspy/venv/lib/python3.10/site-packages (from torch) (2.21.5)\n",
      "Requirement already satisfied: mpmath<1.4,>=1.1.0 in /home/dmai-se2/aaron/dspy/venv/lib/python3.10/site-packages (from sympy==1.13.1->torch) (1.3.0)\n",
      "Requirement already satisfied: MarkupSafe>=2.0 in /home/dmai-se2/aaron/dspy/venv/lib/python3.10/site-packages (from jinja2->torch) (3.0.2)\n",
      "Requirement already satisfied: idna<4,>=2.5 in /home/dmai-se2/aaron/dspy/venv/lib/python3.10/site-packages (from requests->transformers) (3.10)\n",
      "Requirement already satisfied: charset-normalizer<4,>=2 in /home/dmai-se2/aaron/dspy/venv/lib/python3.10/site-packages (from requests->transformers) (3.4.0)\n",
      "Requirement already satisfied: certifi>=2017.4.17 in /home/dmai-se2/aaron/dspy/venv/lib/python3.10/site-packages (from requests->transformers) (2024.8.30)\n",
      "Requirement already satisfied: urllib3<3,>=1.21.1 in /home/dmai-se2/aaron/dspy/venv/lib/python3.10/site-packages (from requests->transformers) (2.2.3)\n",
      "Note: you may need to restart the kernel to use updated packages.\n",
      "Indices: [[1]] chunks: ['Artificial Intelligence (AI) is a rapidly growing field of technology that aims to create machines capable of intelligent behavior', '\\nMachine Learning (ML) is a subset of AI that involves training models on data to make predictions or decisions without being explicitly programmed', '\\nNatural Language Processing (NLP) is an area of AI that focuses on enabling machines to understand, interpret, and generate human language.']\n",
      "Most relevant chunk: \n",
      "Machine Learning (ML) is a subset of AI that involves training models on data to make predictions or decisions without being explicitly programmed\n"
     ]
    }
   ],
   "source": [
    "%pip install numpy transformers torch faiss-cpu\n",
    "\n",
    "import numpy as np\n",
    "from transformers import AutoTokenizer, AutoModel\n",
    "import torch\n",
    "import faiss\n",
    "\n",
    "# Load pre-trained tokenizer and model\n",
    "model_name = \"sentence-transformers/all-MiniLM-L6-v2\"\n",
    "tokenizer = AutoTokenizer.from_pretrained(model_name)\n",
    "model = AutoModel.from_pretrained(model_name)\n",
    "\n",
    "# Text to chunk and embed\n",
    "text = \"\"\"Artificial Intelligence (AI) is a rapidly growing field of technology that aims to create machines capable of intelligent behavior. \n",
    "Machine Learning (ML) is a subset of AI that involves training models on data to make predictions or decisions without being explicitly programmed. \n",
    "Natural Language Processing (NLP) is an area of AI that focuses on enabling machines to understand, interpret, and generate human language.\"\"\"\n",
    "\n",
    "# Chunk the text into sentences\n",
    "chunks = text.split(\". \")\n",
    "\n",
    "# Create embeddings for each chunk\n",
    "def embed_text(chunks):\n",
    "    inputs = tokenizer(chunks, return_tensors='pt', padding=True, truncation=True)\n",
    "    with torch.no_grad():\n",
    "        embeddings = model(**inputs).last_hidden_state[:, 0, :]\n",
    "    return embeddings\n",
    "\n",
    "embeddings = embed_text(chunks)\n",
    "embeddings_np = embeddings.numpy()\n",
    "\n",
    "# Index the embeddings using FAISS\n",
    "embedding_dim = embeddings_np.shape[1]\n",
    "index = faiss.IndexFlatL2(embedding_dim)\n",
    "index.add(embeddings_np)\n",
    "\n",
    "# Function to find relevant chunk based on user query\n",
    "def find_most_relevant_chunk(query, index, chunks):\n",
    "    # Embed the query\n",
    "    query_embedding = embed_text([query]).numpy()\n",
    "    \n",
    "    # Search the index\n",
    "    _, indices = index.search(query_embedding, k=1)\n",
    "    print(\"Indices:\", indices,\"chunks:\",chunks)\n",
    "    # Return the most relevant chunk\n",
    "    return chunks[indices[0][0]]\n",
    "\n",
    "# Example user query\n",
    "query = \"What is ML?\"\n",
    "most_relevant_chunk = find_most_relevant_chunk(query, index, chunks)\n",
    "print(\"Most relevant chunk:\", most_relevant_chunk)"
   ]
  },
  {
   "cell_type": "code",
   "execution_count": null,
   "metadata": {},
   "outputs": [],
   "source": []
  }
 ],
 "metadata": {
  "kernelspec": {
   "display_name": "venv",
   "language": "python",
   "name": "python3"
  },
  "language_info": {
   "codemirror_mode": {
    "name": "ipython",
    "version": 3
   },
   "file_extension": ".py",
   "mimetype": "text/x-python",
   "name": "python",
   "nbconvert_exporter": "python",
   "pygments_lexer": "ipython3",
   "version": "3.10.12"
  }
 },
 "nbformat": 4,
 "nbformat_minor": 2
}
